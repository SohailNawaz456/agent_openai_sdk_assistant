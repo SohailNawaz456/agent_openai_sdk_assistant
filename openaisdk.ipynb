{
  "nbformat": 4,
  "nbformat_minor": 0,
  "metadata": {
    "colab": {
      "provenance": [],
      "authorship_tag": "ABX9TyNt6ctBJJVGOpqOCpV0nqLR",
      "include_colab_link": true
    },
    "kernelspec": {
      "name": "python3",
      "display_name": "Python 3"
    },
    "language_info": {
      "name": "python"
    }
  },
  "cells": [
    {
      "cell_type": "markdown",
      "metadata": {
        "id": "view-in-github",
        "colab_type": "text"
      },
      "source": [
        "<a href=\"https://colab.research.google.com/github/SohailNawaz456/agent_openai_sdk_assistant/blob/main/openaisdk.ipynb\" target=\"_parent\"><img src=\"https://colab.research.google.com/assets/colab-badge.svg\" alt=\"Open In Colab\"/></a>"
      ]
    },
    {
      "cell_type": "code",
      "execution_count": 1,
      "metadata": {
        "colab": {
          "base_uri": "https://localhost:8080/"
        },
        "id": "vVNzJDwTQcvb",
        "outputId": "c34348ac-6b7e-44ab-db71-07ef122c655c"
      },
      "outputs": [
        {
          "output_type": "stream",
          "name": "stdout",
          "text": [
            "\u001b[?25l   \u001b[90m━━━━━━━━━━━━━━━━━━━━━━━━━━━━━━━━━━━━━━━━\u001b[0m \u001b[32m0.0/116.9 kB\u001b[0m \u001b[31m?\u001b[0m eta \u001b[36m-:--:--\u001b[0m\r\u001b[2K   \u001b[90m━━━━━━━━━━━━━━━━━━━━━━━━━━━━━━━━━━━━━━━━\u001b[0m \u001b[32m116.9/116.9 kB\u001b[0m \u001b[31m5.2 MB/s\u001b[0m eta \u001b[36m0:00:00\u001b[0m\n",
            "\u001b[?25h\u001b[?25l   \u001b[90m━━━━━━━━━━━━━━━━━━━━━━━━━━━━━━━━━━━━━━━━\u001b[0m \u001b[32m0.0/129.3 kB\u001b[0m \u001b[31m?\u001b[0m eta \u001b[36m-:--:--\u001b[0m\r\u001b[2K   \u001b[90m━━━━━━━━━━━━━━━━━━━━━━━━━━━━━━━━━━━━━━━━\u001b[0m \u001b[32m129.3/129.3 kB\u001b[0m \u001b[31m7.2 MB/s\u001b[0m eta \u001b[36m0:00:00\u001b[0m\n",
            "\u001b[2K   \u001b[90m━━━━━━━━━━━━━━━━━━━━━━━━━━━━━━━━━━━━━━━━\u001b[0m \u001b[32m100.4/100.4 kB\u001b[0m \u001b[31m4.7 MB/s\u001b[0m eta \u001b[36m0:00:00\u001b[0m\n",
            "\u001b[2K   \u001b[90m━━━━━━━━━━━━━━━━━━━━━━━━━━━━━━━━━━━━━━━━\u001b[0m \u001b[32m44.4/44.4 kB\u001b[0m \u001b[31m1.6 MB/s\u001b[0m eta \u001b[36m0:00:00\u001b[0m\n",
            "\u001b[2K   \u001b[90m━━━━━━━━━━━━━━━━━━━━━━━━━━━━━━━━━━━━━━━━\u001b[0m \u001b[32m72.0/72.0 kB\u001b[0m \u001b[31m3.8 MB/s\u001b[0m eta \u001b[36m0:00:00\u001b[0m\n",
            "\u001b[2K   \u001b[90m━━━━━━━━━━━━━━━━━━━━━━━━━━━━━━━━━━━━━━━━\u001b[0m \u001b[32m62.5/62.5 kB\u001b[0m \u001b[31m3.2 MB/s\u001b[0m eta \u001b[36m0:00:00\u001b[0m\n",
            "\u001b[?25h"
          ]
        }
      ],
      "source": [
        "pip install -Uq openai-agents"
      ]
    },
    {
      "cell_type": "code",
      "source": [
        "import nest_asyncio\n",
        "nest_asyncio.apply()"
      ],
      "metadata": {
        "id": "_ESudbI5SSy7"
      },
      "execution_count": 2,
      "outputs": []
    },
    {
      "cell_type": "code",
      "source": [
        "import os\n",
        "from agents import Agent, Runner, AsyncOpenAI, OpenAIChatCompletionsModel\n",
        "from agents.run import RunConfig\n",
        "from google.colab import userdata"
      ],
      "metadata": {
        "id": "IJLou0olSpwk"
      },
      "execution_count": 3,
      "outputs": []
    },
    {
      "cell_type": "code",
      "source": [
        "gemini_api_key = userdata.get('GOOGLE_API_KEY')\n",
        "\n",
        "external_client = AsyncOpenAI(\n",
        "    api_key=gemini_api_key,\n",
        "    base_url=\"https://generativelanguage.googleapis.com/v1beta/openai/\",\n",
        ")\n",
        "\n",
        "model = OpenAIChatCompletionsModel(\n",
        "    model=\"gemini-2.0-flash\",\n",
        "    openai_client=external_client\n",
        ")\n",
        "\n",
        "config = RunConfig(\n",
        "    model=model,\n",
        "    model_provider=external_client,\n",
        "    tracing_disabled=True\n",
        ")\n"
      ],
      "metadata": {
        "id": "gYafu8ESTs5f"
      },
      "execution_count": 4,
      "outputs": []
    },
    {
      "cell_type": "code",
      "source": [
        "agent: Agent = Agent(name=\"Assistant\", instructions=\"You are a helpful assistant\", model=model)\n",
        "\n",
        "result = Runner.run_sync(agent, \"Hello, what is python.\", run_config=config)\n",
        "\n",
        "print(\"\\nCALLING AGENT\\n\")\n",
        "print(result.final_output)"
      ],
      "metadata": {
        "colab": {
          "base_uri": "https://localhost:8080/"
        },
        "id": "oISibFV3Wy8g",
        "outputId": "1e889fa2-4372-4694-f3b3-a256097caff5"
      },
      "execution_count": 7,
      "outputs": [
        {
          "output_type": "stream",
          "name": "stdout",
          "text": [
            "\n",
            "CALLING AGENT\n",
            "\n",
            "Python is a high-level, general-purpose programming language. Here's a breakdown of what that means:\n",
            "\n",
            "*   **High-level:** Python is designed to be easy to read and write, resembling human language more than machine code. This makes it more accessible to beginners and allows developers to focus on solving problems rather than low-level details of computer hardware.\n",
            "\n",
            "*   **General-purpose:** Python can be used for a wide variety of tasks, including:\n",
            "\n",
            "    *   **Web Development:** Creating websites and web applications (e.g., using frameworks like Django and Flask).\n",
            "    *   **Data Science:** Analyzing and manipulating data, building machine learning models (e.g., using libraries like NumPy, Pandas, Scikit-learn).\n",
            "    *   **Scripting:** Automating tasks, writing utility programs.\n",
            "    *   **Game Development:** Creating games (e.g., using libraries like Pygame).\n",
            "    *   **Desktop Applications:** Building graphical user interface (GUI) applications.\n",
            "    *   **Scientific Computing:** Performing complex calculations and simulations.\n",
            "    *   **Education:** Teaching programming concepts.\n",
            "\n",
            "**Key features of Python:**\n",
            "\n",
            "*   **Readability:** Python emphasizes code readability through its clean syntax and use of indentation.\n",
            "*   **Interpreted:** Python code is executed line by line by an interpreter, rather than being compiled into machine code beforehand.  This makes development faster.\n",
            "*   **Dynamically Typed:** You don't need to explicitly declare the type of a variable. Python infers the type at runtime.\n",
            "*   **Large Standard Library:** Python comes with a rich set of built-in modules and functions, providing a wide range of functionalities.\n",
            "*   **Extensive Third-Party Libraries:** A vast ecosystem of third-party libraries is available, extending Python's capabilities even further.\n",
            "*   **Cross-Platform:** Python can run on various operating systems, including Windows, macOS, and Linux.\n",
            "*   **Object-Oriented:** Python supports object-oriented programming (OOP) principles, allowing you to create reusable and modular code.\n",
            "*   **Easy to Learn:** Python's simple syntax and clear structure make it relatively easy to learn, especially for beginners.\n",
            "\n",
            "**In summary, Python is a versatile and popular programming language known for its readability, wide range of applications, and ease of use.**\n",
            "\n"
          ]
        }
      ]
    }
  ]
}